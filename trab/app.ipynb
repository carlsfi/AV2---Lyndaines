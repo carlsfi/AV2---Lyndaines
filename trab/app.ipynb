{
 "cells": [
  {
   "cell_type": "markdown",
   "id": "be54c1f3",
   "metadata": {
    "id": "be54c1f3"
   },
   "source": [
    "\n",
    "# Análise de Desempenho e Regressão Linear\n"
   ]
  },
  {
   "cell_type": "code",
   "execution_count": 1,
   "id": "1da9e88b",
   "metadata": {
    "id": "1da9e88b"
   },
   "outputs": [],
   "source": [
    "\n",
    "import pandas as pd\n",
    "import numpy as np\n",
    "import statsmodels.api as sm\n",
    "import statsmodels.stats.api as sms\n",
    "from statsmodels.stats.outliers_influence import variance_inflation_factor\n",
    "import matplotlib.pyplot as plt\n",
    "import seaborn as sns\n",
    "import matplotlib.ticker as mtick\n",
    "\n",
    "%matplotlib inline\n"
   ]
  },
  {
   "cell_type": "markdown",
   "id": "66c67a10",
   "metadata": {
    "id": "66c67a10"
   },
   "source": [
    "\n",
    "## Parte I – Análise Estatística"
   ]
  },
  {
   "cell_type": "code",
   "execution_count": 2,
   "id": "c0f611fd",
   "metadata": {
    "colab": {
     "base_uri": "https://localhost:8080/"
    },
    "id": "c0f611fd",
    "outputId": "f6f6b13e-1a83-4508-f8a9-d18a64921aa4"
   },
   "outputs": [
    {
     "name": "stdout",
     "output_type": "stream",
     "text": [
      "📁 Arquivo 'dataset_11.csv' carregado com sucesso!\n",
      "\n",
      "🔍 Verificação de valores ausentes por coluna (antes do tratamento):\n",
      "latencia_ms         18\n",
      "armazenamento_tb    18\n",
      "tipo_hd             18\n",
      "tempo_resposta       1\n",
      "dtype: int64\n",
      "\n",
      "🔧 Preenchendo colunas numéricas com a mediana...\n",
      "→ Coluna 'latencia_ms' preenchida com a mediana (164.59).\n",
      "→ Coluna 'armazenamento_tb' preenchida com a mediana (0.51).\n",
      "→ Coluna 'tempo_resposta' preenchida com a mediana (85.31).\n",
      "\n",
      "🔧 Preenchendo colunas categóricas com a moda...\n",
      "→ Coluna 'tipo_hd' preenchida com a moda ('HDD').\n",
      "\n",
      "📊 Verificação final de valores ausentes após a imputação:\n",
      "✅ Todos os dados ausentes foram preenchidos com sucesso.\n",
      "\n",
      "📈 Estatísticas Descritivas - Variáveis Numéricas:\n",
      "        cpu_cores      ram_gb  latencia_ms  armazenamento_tb  tempo_resposta\n",
      "count  185.000000  185.000000   185.000000        185.000000      185.000000\n",
      "mean     8.572973   25.383784   157.138919          0.888173      107.237595\n",
      "std      4.048124   21.629005    75.645088          0.665306       66.101246\n",
      "min      2.000000    4.000000     1.260000          0.256000       28.680000\n",
      "25%      5.000000    8.000000   108.760000          0.512000       67.490000\n",
      "50%      8.000000   16.000000   164.590000          0.512000       85.315000\n",
      "75%     12.000000   32.000000   216.580000          1.000000      120.970000\n",
      "max     15.000000   64.000000   299.150000          2.000000      412.040000\n",
      "\n",
      "📋 Estatísticas Descritivas - Variáveis Categóricas:\n",
      "       sistema_operacional tipo_hd tipo_processador\n",
      "count                  185     185              185\n",
      "unique                   3       2                3\n",
      "top                  Linux     HDD              AMD\n",
      "freq                    65     108               63\n",
      "\n",
      "📊 Frequência das Categorias - 'sistema_operacional':\n",
      "sistema_operacional\n",
      "Linux      65\n",
      "Windows    61\n",
      "MacOS      59\n",
      "Name: count, dtype: int64\n",
      "\n",
      "📊 Frequência das Categorias - 'tipo_hd':\n",
      "tipo_hd\n",
      "HDD    108\n",
      "SSD     77\n",
      "Name: count, dtype: int64\n",
      "\n",
      "📊 Frequência das Categorias - 'tipo_processador':\n",
      "tipo_processador\n",
      "AMD              63\n",
      "Intel            63\n",
      "Apple Silicon    59\n",
      "Name: count, dtype: int64\n",
      "\n",
      "💾 Arquivo final salvo como: 'dataset_11_limpo_replicado_v2.csv'\n",
      "\n",
      "✅ Colunas Numéricas Identificadas: ['cpu_cores', 'ram_gb', 'latencia_ms', 'armazenamento_tb', 'tempo_resposta']\n",
      "✅ Colunas Categóricas Identificadas: ['sistema_operacional', 'tipo_hd', 'tipo_processador']\n"
     ]
    },
    {
     "name": "stderr",
     "output_type": "stream",
     "text": [
      "C:\\Users\\jcmag\\AppData\\Local\\Temp\\ipykernel_20588\\3968908990.py:21: FutureWarning: A value is trying to be set on a copy of a DataFrame or Series through chained assignment using an inplace method.\n",
      "The behavior will change in pandas 3.0. This inplace method will never work because the intermediate object on which we are setting values always behaves as a copy.\n",
      "\n",
      "For example, when doing 'df[col].method(value, inplace=True)', try using 'df.method({col: value}, inplace=True)' or df[col] = df[col].method(value) instead, to perform the operation inplace on the original object.\n",
      "\n",
      "\n",
      "  dados[coluna].fillna(mediana, inplace=True)\n",
      "C:\\Users\\jcmag\\AppData\\Local\\Temp\\ipykernel_20588\\3968908990.py:21: FutureWarning: A value is trying to be set on a copy of a DataFrame or Series through chained assignment using an inplace method.\n",
      "The behavior will change in pandas 3.0. This inplace method will never work because the intermediate object on which we are setting values always behaves as a copy.\n",
      "\n",
      "For example, when doing 'df[col].method(value, inplace=True)', try using 'df.method({col: value}, inplace=True)' or df[col] = df[col].method(value) instead, to perform the operation inplace on the original object.\n",
      "\n",
      "\n",
      "  dados[coluna].fillna(mediana, inplace=True)\n",
      "C:\\Users\\jcmag\\AppData\\Local\\Temp\\ipykernel_20588\\3968908990.py:21: FutureWarning: A value is trying to be set on a copy of a DataFrame or Series through chained assignment using an inplace method.\n",
      "The behavior will change in pandas 3.0. This inplace method will never work because the intermediate object on which we are setting values always behaves as a copy.\n",
      "\n",
      "For example, when doing 'df[col].method(value, inplace=True)', try using 'df.method({col: value}, inplace=True)' or df[col] = df[col].method(value) instead, to perform the operation inplace on the original object.\n",
      "\n",
      "\n",
      "  dados[coluna].fillna(mediana, inplace=True)\n",
      "C:\\Users\\jcmag\\AppData\\Local\\Temp\\ipykernel_20588\\3968908990.py:33: FutureWarning: A value is trying to be set on a copy of a DataFrame or Series through chained assignment using an inplace method.\n",
      "The behavior will change in pandas 3.0. This inplace method will never work because the intermediate object on which we are setting values always behaves as a copy.\n",
      "\n",
      "For example, when doing 'df[col].method(value, inplace=True)', try using 'df.method({col: value}, inplace=True)' or df[col] = df[col].method(value) instead, to perform the operation inplace on the original object.\n",
      "\n",
      "\n",
      "  dados[coluna].fillna(moda, inplace=True)\n"
     ]
    }
   ],
   "source": [
    "# Carregamento e imputação de dados do dataset original\n",
    "\n",
    "dadosOriginais = pd.read_csv(\"dataset_11.csv\")\n",
    "dados = dadosOriginais.copy()\n",
    "\n",
    "print(\"📁 Arquivo 'dataset_11.csv' carregado com sucesso!\")\n",
    "\n",
    "print(\"\\n🔍 Verificação de valores ausentes por coluna (antes do tratamento):\")\n",
    "faltantesAntes = dados.isnull().sum()\n",
    "if faltantesAntes.sum() > 0:\n",
    "    print(faltantesAntes[faltantesAntes > 0])\n",
    "else:\n",
    "    print(\"✅ Nenhuma célula com valor ausente identificada.\")\n",
    "\n",
    "print(\"\\n🔧 Preenchendo colunas numéricas com a mediana...\")\n",
    "colunasNumericasComNa = dados.select_dtypes(include=np.number).isnull().any()\n",
    "colunasNumericasParaImputar = colunasNumericasComNa[colunasNumericasComNa].index.tolist()\n",
    "if colunasNumericasParaImputar:\n",
    "    for coluna in colunasNumericasParaImputar:\n",
    "        mediana = dados[coluna].median()\n",
    "        dados[coluna].fillna(mediana, inplace=True)\n",
    "        print(f\"→ Coluna '{coluna}' preenchida com a mediana ({mediana:.2f}).\")\n",
    "else:\n",
    "    print(\"✅ Nenhuma coluna numérica com dados ausentes encontrada.\")\n",
    "\n",
    "print(\"\\n🔧 Preenchendo colunas categóricas com a moda...\")\n",
    "colunasCategComNa = dados.select_dtypes(include=['object', 'category']).isnull().any()\n",
    "colunasCategParaImputar = colunasCategComNa[colunasCategComNa].index.tolist()\n",
    "if colunasCategParaImputar:\n",
    "    for coluna in colunasCategParaImputar:\n",
    "        if not dados[coluna].dropna().empty:\n",
    "            moda = dados[coluna].mode()[0]\n",
    "            dados[coluna].fillna(moda, inplace=True)\n",
    "            print(f\"→ Coluna '{coluna}' preenchida com a moda ('{moda}').\")\n",
    "        else:\n",
    "            print(f\"⚠️ A coluna '{coluna}' está vazia ou contém apenas valores nulos, impossibilitando a imputação.\")\n",
    "else:\n",
    "    print(\"✅ Nenhuma variável categórica com valores faltantes encontrada.\")\n",
    "\n",
    "print(\"\\n📊 Verificação final de valores ausentes após a imputação:\")\n",
    "faltantesDepois = dados.isnull().sum()\n",
    "if faltantesDepois.sum() == 0:\n",
    "    print(\"✅ Todos os dados ausentes foram preenchidos com sucesso.\")\n",
    "else:\n",
    "    print(\"⚠️ Ainda restam valores ausentes nas seguintes colunas:\")\n",
    "    print(faltantesDepois[faltantesDepois > 0])\n",
    "\n",
    "print(\"\\n📈 Estatísticas Descritivas - Variáveis Numéricas:\")\n",
    "descricaoNumerica = dados.describe(include=np.number)\n",
    "print(descricaoNumerica)\n",
    "\n",
    "print(\"\\n📋 Estatísticas Descritivas - Variáveis Categóricas:\")\n",
    "descricaoCateg = dados.describe(include=['object', 'category'])\n",
    "print(descricaoCateg)\n",
    "\n",
    "print(\"\\n📊 Frequência das Categorias - 'sistema_operacional':\")\n",
    "print(dados[\"sistema_operacional\"].value_counts())\n",
    "\n",
    "print(\"\\n📊 Frequência das Categorias - 'tipo_hd':\")\n",
    "print(dados[\"tipo_hd\"].value_counts())\n",
    "\n",
    "print(\"\\n📊 Frequência das Categorias - 'tipo_processador':\")\n",
    "print(dados[\"tipo_processador\"].value_counts())\n",
    "\n",
    "# Salvando o novo dataset limpo\n",
    "dados.to_csv(\"dataset_11_limpo_replicado_v2.csv\", index=False)\n",
    "print(\"\\n💾 Arquivo final salvo como: 'dataset_11_limpo_replicado_v2.csv'\")\n",
    "\n",
    "# Identificando as colunas numéricas e categóricas finais\n",
    "colunasNumericas = dados.select_dtypes(include=np.number).columns.tolist()\n",
    "colunasCateg = dados.select_dtypes(include=['object', 'category']).columns.tolist()\n",
    "\n",
    "print(f\"\\n✅ Colunas Numéricas Identificadas: {colunasNumericas}\")\n",
    "print(f\"✅ Colunas Categóricas Identificadas: {colunasCateg}\")\n"
   ]
  },
  {
   "cell_type": "markdown",
   "id": "b05f1e74",
   "metadata": {
    "id": "b05f1e74"
   },
   "source": [
    "\n",
    "## Parte II – Modelo e Diagnóstico\n",
    "\n"
   ]
  },
  {
   "cell_type": "markdown",
   "id": "f3a1fe0f",
   "metadata": {
    "id": "f3a1fe0f"
   },
   "source": [
    "\n",
    "### Modelo 1: Regressão Linear Múltipla (Todas as Variáveis)\n"
   ]
  },
  {
   "cell_type": "code",
   "execution_count": 3,
   "id": "ec423b4c",
   "metadata": {
    "colab": {
     "base_uri": "https://localhost:8080/"
    },
    "id": "ec423b4c",
    "outputId": "83ce8f2c-dffd-442a-f924-553881899478"
   },
   "outputs": [
    {
     "name": "stdout",
     "output_type": "stream",
     "text": [
      "=-=-Resumo Estatístico do Modelo 1 (com todas as variáveis)-=-=\n",
      "                            OLS Regression Results                            \n",
      "==============================================================================\n",
      "Dep. Variable:         tempo_resposta   R-squared:                       0.669\n",
      "Model:                            OLS   Adj. R-squared:                  0.654\n",
      "Method:                 Least Squares   F-statistic:                     44.52\n",
      "Date:                Tue, 06 May 2025   Prob (F-statistic):           1.93e-38\n",
      "Time:                        22:28:43   Log-Likelihood:                -935.03\n",
      "No. Observations:                 185   AIC:                             1888.\n",
      "Df Residuals:                     176   BIC:                             1917.\n",
      "Df Model:                           8                                         \n",
      "Covariance Type:            nonrobust                                         \n",
      "==================================================================================================\n",
      "                                     coef    std err          t      P>|t|      [0.025      0.975]\n",
      "--------------------------------------------------------------------------------------------------\n",
      "const                            244.7960     12.919     18.949      0.000     219.300     270.292\n",
      "cpu_cores                        -11.4659      0.711    -16.132      0.000     -12.869     -10.063\n",
      "ram_gb                            -1.4270      0.141    -10.140      0.000      -1.705      -1.149\n",
      "latencia_ms                       -0.0126      0.040     -0.312      0.756      -0.092       0.067\n",
      "armazenamento_tb                  -3.7331      4.400     -0.848      0.397     -12.416       4.950\n",
      "sistema_operacional_MacOS         -0.3824      3.890     -0.098      0.922      -8.059       7.294\n",
      "sistema_operacional_Windows        5.4339      7.156      0.759      0.449      -8.690      19.557\n",
      "tipo_hd_SSD                       -0.8341      5.826     -0.143      0.886     -12.331      10.663\n",
      "tipo_processador_Apple Silicon    -0.3824      3.890     -0.098      0.922      -8.059       7.294\n",
      "tipo_processador_Intel             3.0850      7.076      0.436      0.663     -10.880      17.050\n",
      "==============================================================================\n",
      "Omnibus:                      121.641   Durbin-Watson:                   2.249\n",
      "Prob(Omnibus):                  0.000   Jarque-Bera (JB):              855.477\n",
      "Skew:                           2.494   Prob(JB):                    1.72e-186\n",
      "Kurtosis:                      12.279   Cond. No.                     4.07e+18\n",
      "==============================================================================\n",
      "\n",
      "Notes:\n",
      "[1] Standard Errors assume that the covariance matrix of the errors is correctly specified.\n",
      "[2] The smallest eigenvalue is 3.45e-31. This might indicate that there are\n",
      "strong multicollinearity problems or that the design matrix is singular.\n",
      "=-=-Categorias de Referência Utilizadas (Dummy Encoding)-=-=\n",
      "- sistema_operacional: A categoria de referência é 'Linux'\n",
      "- tipo_hd: A categoria de referência é 'HDD'\n",
      "- tipo_processador: A categoria de referência é 'AMD'\n"
     ]
    }
   ],
   "source": [
    "# Preparação dos dados e ajuste do Modelo 1 (com todas as variáveis)\n",
    "\n",
    "dadosLimpos = pd.read_csv(\"dataset_11_limpo_replicado_v2.csv\")\n",
    "colunasCateg = [\"sistema_operacional\", \"tipo_hd\", \"tipo_processador\"]\n",
    "\n",
    "# Codificação das variáveis categóricas (dummy encoding)\n",
    "dadosCodificados1 = pd.get_dummies(dadosLimpos, columns=colunasCateg, drop_first=True, dtype=int)\n",
    "\n",
    "# Separação das variáveis dependente e independentes\n",
    "y1 = dadosCodificados1[\"tempo_resposta\"]\n",
    "x1 = dadosCodificados1.drop(\"tempo_resposta\", axis=1)\n",
    "x1 = sm.add_constant(x1)  # Inclusão do intercepto\n",
    "\n",
    "# Ajuste do modelo de regressão linear múltipla\n",
    "modelo1 = sm.OLS(y1, x1)\n",
    "resultado1 = modelo1.fit()\n",
    "\n",
    "# Exibição dos resultados\n",
    "print(\"=-=-Resumo Estatístico do Modelo 1 (com todas as variáveis)-=-=\")\n",
    "print(resultado1.summary())\n",
    "\n",
    "# Identificação das categorias base utilizadas na codificação dummy\n",
    "print(\"=-=-Categorias de Referência Utilizadas (Dummy Encoding)-=-=\")\n",
    "for coluna in colunasCateg:\n",
    "    categoriasOriginais = set(dadosLimpos[coluna].unique())\n",
    "    colunasDummy = {c.split(f'{coluna}_')[-1] for c in x1.columns if c.startswith(f'{coluna}_')}\n",
    "    categoriaBase = categoriasOriginais - colunasDummy\n",
    "    if len(categoriaBase) == 1:\n",
    "        print(f\"- {coluna}: A categoria de referência é '{list(categoriaBase)[0]}'\")\n",
    "    else:\n",
    "        print(f\"- {coluna}: Não foi possível determinar uma única base (categorias remanescentes: {categoriaBase})\")\n"
   ]
  },
  {
   "cell_type": "markdown",
   "id": "65680840",
   "metadata": {
    "id": "65680840"
   },
   "source": [
    "\n",
    "### Diagnóstico de Multicolinearidade\n"
   ]
  },
  {
   "cell_type": "code",
   "execution_count": 4,
   "id": "8bc39910",
   "metadata": {
    "colab": {
     "base_uri": "https://localhost:8080/"
    },
    "id": "8bc39910",
    "outputId": "a1cc16e4-74e7-4363-b9e9-dcc60cb14477"
   },
   "outputs": [
    {
     "name": "stdout",
     "output_type": "stream",
     "text": [
      "=-=-Cálculo do Fator de Inflação da Variância (VIF)-=-=\n",
      "                         variavel       vif\n",
      "0                       cpu_cores  4.423661\n",
      "1                          ram_gb  2.106876\n",
      "2                     latencia_ms  3.947534\n",
      "3                armazenamento_tb  2.517450\n",
      "4       sistema_operacional_MacOS       inf\n",
      "5     sistema_operacional_Windows  1.746126\n",
      "6                     tipo_hd_SSD  1.662376\n",
      "7  tipo_processador_Apple Silicon       inf\n",
      "8          tipo_processador_Intel  2.066306\n",
      "=-=-Avaliação da Colinearidade com Base no VIF-=-=\n",
      "Foram identificadas variáveis com VIF infinito — indicando colinearidade perfeita:\n",
      "                         variavel  vif\n",
      "4       sistema_operacional_MacOS  inf\n",
      "7  tipo_processador_Apple Silicon  inf\n",
      "Recomenda-se a exclusão de pelo menos uma dessas variáveis para estabilizar o modelo.\n",
      "\n",
      "VIF - Variáveis ordenadas do maior para o menor valor:\n",
      "                         variavel       vif\n",
      "4       sistema_operacional_MacOS       inf\n",
      "7  tipo_processador_Apple Silicon       inf\n",
      "0                       cpu_cores  4.423661\n",
      "2                     latencia_ms  3.947534\n",
      "3                armazenamento_tb  2.517450\n",
      "1                          ram_gb  2.106876\n",
      "8          tipo_processador_Intel  2.066306\n",
      "5     sistema_operacional_Windows  1.746126\n",
      "6                     tipo_hd_SSD  1.662376\n"
     ]
    },
    {
     "name": "stderr",
     "output_type": "stream",
     "text": [
      "c:\\Users\\jcmag\\AppData\\Local\\Programs\\Python\\Python313\\Lib\\site-packages\\statsmodels\\stats\\outliers_influence.py:197: RuntimeWarning: divide by zero encountered in scalar divide\n",
      "  vif = 1. / (1. - r_squared_i)\n"
     ]
    }
   ],
   "source": [
    "# Análise de multicolinearidade - cálculo dos VIFs\n",
    "\n",
    "variaveisVif = x1.drop(\"const\", axis=1)\n",
    "\n",
    "tabelaVif = pd.DataFrame()\n",
    "tabelaVif[\"variavel\"] = variaveisVif.columns\n",
    "\n",
    "try:\n",
    "    tabelaVif[\"vif\"] = [variance_inflation_factor(variaveisVif.values, i) for i in range(len(variaveisVif.columns))]\n",
    "except Exception as e:\n",
    "    print(f\"Ocorreu um erro durante o cálculo do VIF: {e}\")\n",
    "    vifs = []\n",
    "    for i in range(len(variaveisVif.columns)):\n",
    "        try:\n",
    "            v = variance_inflation_factor(variaveisVif.values, i)\n",
    "        except Exception:\n",
    "            v = float('inf')\n",
    "        vifs.append(v)\n",
    "    tabelaVif[\"vif\"] = vifs\n",
    "\n",
    "print(\"=-=-Cálculo do Fator de Inflação da Variância (VIF)-=-=\")\n",
    "print(tabelaVif)\n",
    "\n",
    "print(\"=-=-Avaliação da Colinearidade com Base no VIF-=-=\")\n",
    "vifElevado = tabelaVif[tabelaVif[\"vif\"] > 10]\n",
    "vifInfinito = tabelaVif[np.isinf(tabelaVif[\"vif\"])]\n",
    "\n",
    "if not vifInfinito.empty:\n",
    "    print(\"Foram identificadas variáveis com VIF infinito — indicando colinearidade perfeita:\")\n",
    "    print(vifInfinito)\n",
    "    print(\"Recomenda-se a exclusão de pelo menos uma dessas variáveis para estabilizar o modelo.\")\n",
    "elif not vifElevado.empty:\n",
    "    print(\"Detectada multicolinearidade severa (VIF > 10) nas seguintes variáveis:\")\n",
    "    print(vifElevado)\n",
    "    print(\"A retirada de uma ou mais dessas variáveis pode ajudar a reduzir redundâncias.\")\n",
    "else:\n",
    "    vifModerado = tabelaVif[(tabelaVif[\"vif\"] > 5) & (tabelaVif[\"vif\"] <= 10)]\n",
    "    if not vifModerado.empty:\n",
    "        print(\"Níveis intermediários de colinearidade foram observados (5 < VIF ≤ 10):\")\n",
    "        print(vifModerado)\n",
    "        print(\"Acompanhamento é indicado, embora não seja obrigatória intervenção imediata.\")\n",
    "    else:\n",
    "        print(\"Nenhuma evidência de multicolinearidade relevante foi encontrada (VIF ≤ 5).\")\n",
    "\n",
    "# Ordenação decrescente para facilitar visualização\n",
    "vifOrdenado = tabelaVif.sort_values(by=\"vif\", ascending=False)\n",
    "print(\"\\nVIF - Variáveis ordenadas do maior para o menor valor:\")\n",
    "print(vifOrdenado)\n"
   ]
  },
  {
   "cell_type": "markdown",
   "id": "ff437002",
   "metadata": {
    "id": "ff437002"
   },
   "source": [
    "\n",
    "### Diagnóstico de Heterocedasticidade\n"
   ]
  },
  {
   "cell_type": "code",
   "execution_count": 5,
   "id": "aa2d6888",
   "metadata": {
    "colab": {
     "base_uri": "https://localhost:8080/",
     "height": 704
    },
    "id": "aa2d6888",
    "outputId": "cce18c37-d2f9-4d55-9f19-05dad7d5aa48"
   },
   "outputs": [
    {
     "data": {
      "image/png": "[encoded data removed]",
      "text/plain": [
       "<Figure size 1000x600 with 1 Axes>"
      ]
     },
     "metadata": {},
     "output_type": "display_data"
    },
    {
     "name": "stdout",
     "output_type": "stream",
     "text": [
      "Figura exportada como: residuos_vs_estimados_modelo1.png\n",
      "=-=-Aplicação do Teste de Breusch-Pagan (Modelo 1)-=-=\n",
      "Estatística LM (Lagrange Multiplier): 18.2647\n",
      "p-valor associado (LM): 0.0322\n",
      "Estatística F: 2.4099\n",
      "p-valor associado (F): 0.0171\n",
      "Conclusão: Como o p-valor F (0.0171) é inferior a 0.05, rejeita-se a hipótese nula.\n",
      "Evidencia-se a presença de heterocedasticidade no modelo.\n"
     ]
    }
   ],
   "source": [
    "# Análise de resíduos e diagnóstico de heterocedasticidade\n",
    "\n",
    "residuosModelo1 = resultado1.resid\n",
    "valoresEstimados = resultado1.fittedvalues\n",
    "\n",
    "plt.figure(figsize=(10, 6))\n",
    "sns.scatterplot(x=valoresEstimados, y=residuosModelo1)\n",
    "plt.axhline(0, color=\"red\", linestyle=\"--\", linewidth=1)\n",
    "plt.title(\"Dispersão dos Resíduos vs. Valores Estimados (Modelo 1)\")\n",
    "plt.xlabel(\"Valores Estimados (Fitted Values)\")\n",
    "plt.ylabel(\"Resíduos\")\n",
    "plt.grid(True)\n",
    "plt.savefig(\"residuos_vs_estimados_modelo1.png\")\n",
    "plt.show()\n",
    "print(\"Figura exportada como: residuos_vs_estimados_modelo1.png\")\n",
    "\n",
    "# Teste de Breusch-Pagan para heterocedasticidade\n",
    "print(\"=-=-Aplicação do Teste de Breusch-Pagan (Modelo 1)-=-=\")\n",
    "testeBreuschPagan = sms.het_breuschpagan(residuosModelo1, resultado1.model.exog)\n",
    "nomesEstatisticas = [\"Estatística LM\", \"p-valor LM\", \"Estatística F\", \"p-valor F\"]\n",
    "resultadoBreuschPagan = dict(zip(nomesEstatisticas, testeBreuschPagan))\n",
    "\n",
    "print(f\"Estatística LM (Lagrange Multiplier): {resultadoBreuschPagan['Estatística LM']:.4f}\")\n",
    "print(f\"p-valor associado (LM): {resultadoBreuschPagan['p-valor LM']:.4f}\")\n",
    "print(f\"Estatística F: {resultadoBreuschPagan['Estatística F']:.4f}\")\n",
    "print(f\"p-valor associado (F): {resultadoBreuschPagan['p-valor F']:.4f}\")\n",
    "\n",
    "# Interpretação do resultado do teste\n",
    "nivelSignificancia = 0.05\n",
    "if resultadoBreuschPagan[\"p-valor F\"] < nivelSignificancia:\n",
    "    print(f\"Conclusão: Como o p-valor F ({resultadoBreuschPagan['p-valor F']:.4f}) é inferior a {nivelSignificancia}, rejeita-se a hipótese nula.\")\n",
    "    print(\"Evidencia-se a presença de heterocedasticidade no modelo.\")\n",
    "else:\n",
    "    print(f\"Conclusão: Com p-valor F ({resultadoBreuschPagan['p-valor F']:.4f}) ≥ {nivelSignificancia}, não há base suficiente para rejeitar H0.\")\n",
    "    print(\"Não foram detectados indícios de heterocedasticidade.\")\n"
   ]
  },
  {
   "cell_type": "markdown",
   "id": "454f1d36",
   "metadata": {
    "id": "454f1d36"
   },
   "source": [
    "\n",
    "## Parte III – Análise Crítica\n"
   ]
  },
  {
   "cell_type": "markdown",
   "id": "4ac34e2e",
   "metadata": {
    "id": "4ac34e2e"
   },
   "source": [
    "\n",
    "### Comparação de Modelos\n"
   ]
  },
  {
   "cell_type": "code",
   "execution_count": 6,
   "id": "aaa682a5",
   "metadata": {
    "colab": {
     "base_uri": "https://localhost:8080/",
     "height": 1000
    },
    "id": "aaa682a5",
    "outputId": "d6303fae-ae4f-4007-da89-04c6b58e3b10"
   },
   "outputs": [
    {
     "name": "stdout",
     "output_type": "stream",
     "text": [
      "=-=-Resumo do Modelo 2 (com 'Apple Silicon' removido)-=-=\n",
      "                            OLS Regression Results                            \n",
      "==============================================================================\n",
      "Dep. Variable:         tempo_resposta   R-squared:                       0.669\n",
      "Model:                            OLS   Adj. R-squared:                  0.654\n",
      "Method:                 Least Squares   F-statistic:                     44.52\n",
      "Date:                Tue, 06 May 2025   Prob (F-statistic):           1.93e-38\n",
      "Time:                        22:28:43   Log-Likelihood:                -935.03\n",
      "No. Observations:                 185   AIC:                             1888.\n",
      "Df Residuals:                     176   BIC:                             1917.\n",
      "Df Model:                           8                                         \n",
      "Covariance Type:            nonrobust                                         \n",
      "===============================================================================================\n",
      "                                  coef    std err          t      P>|t|      [0.025      0.975]\n",
      "-----------------------------------------------------------------------------------------------\n",
      "const                         244.7960     12.919     18.949      0.000     219.300     270.292\n",
      "cpu_cores                     -11.4659      0.711    -16.132      0.000     -12.869     -10.063\n",
      "ram_gb                         -1.4270      0.141    -10.140      0.000      -1.705      -1.149\n",
      "latencia_ms                    -0.0126      0.040     -0.312      0.756      -0.092       0.067\n",
      "armazenamento_tb               -3.7331      4.400     -0.848      0.397     -12.416       4.950\n",
      "sistema_operacional_MacOS      -0.7647      7.779     -0.098      0.922     -16.118      14.588\n",
      "sistema_operacional_Windows     5.4339      7.156      0.759      0.449      -8.690      19.557\n",
      "tipo_hd_SSD                    -0.8341      5.826     -0.143      0.886     -12.331      10.663\n",
      "tipo_processador_Intel          3.0850      7.076      0.436      0.663     -10.880      17.050\n",
      "==============================================================================\n",
      "Omnibus:                      121.641   Durbin-Watson:                   2.249\n",
      "Prob(Omnibus):                  0.000   Jarque-Bera (JB):              855.477\n",
      "Skew:                           2.494   Prob(JB):                    1.72e-186\n",
      "Kurtosis:                      12.279   Cond. No.                         867.\n",
      "==============================================================================\n",
      "\n",
      "Notes:\n",
      "[1] Standard Errors assume that the covariance matrix of the errors is correctly specified.\n",
      "=-=-Comparativo entre os Modelos-=-=\n",
      "Modelo 1: R² Ajustado = 0.6542, Estatística F = 44.52, p-valor (F) = 1.93e-38, Número de Condição = 4.07e+18\n",
      "Modelo 2: R² Ajustado = 0.6542, Estatística F = 44.52, p-valor (F) = 1.93e-38, Número de Condição = 867.43\n",
      "=-=-Análise e Escolha do Modelo-=-=\n",
      "O Modelo 2 apresenta desempenho semelhante ao Modelo 1 em termos de R² ajustado.\n",
      "Além disso, o Modelo 2 elimina o problema crítico de multicolinearidade, resultando em um número de condição bem mais estável.\n",
      "A variável descartada ('tipo_processador_Apple Silicon') não era estatisticamente relevante no Modelo 1 (p=0.922).\n",
      "Portanto, o Modelo 2 se destaca por ser mais enxuto e confiável.\n"
     ]
    },
    {
     "data": {
      "image/png": "[encoded data removed]",
      "text/plain": [
       "<Figure size 640x480 with 1 Axes>"
      ]
     },
     "metadata": {},
     "output_type": "display_data"
    }
   ],
   "source": [
    "# Modelo 2 (Excluindo variável com VIF infinito)\n",
    "\n",
    "dadosCodificados2 = pd.get_dummies(dadosLimpos, columns=colunasCateg, drop_first=True, dtype=int)\n",
    "\n",
    "variaveisParaRemover = [\"tempo_resposta\", \"tipo_processador_Apple Silicon\"]\n",
    "x2 = dadosCodificados2.drop(columns=variaveisParaRemover)\n",
    "y2 = dadosCodificados2[\"tempo_resposta\"]\n",
    "\n",
    "x2 = sm.add_constant(x2)\n",
    "modelo2 = sm.OLS(y2, x2)\n",
    "resultado2 = modelo2.fit()\n",
    "\n",
    "print(\"=-=-Resumo do Modelo 2 (com 'Apple Silicon' removido)-=-=\")\n",
    "print(resultado2.summary())\n",
    "\n",
    "print(\"=-=-Comparativo entre os Modelos-=-=\")\n",
    "print(f\"Modelo 1: R² Ajustado = {resultado1.rsquared_adj:.4f}, Estatística F = {resultado1.fvalue:.2f}, p-valor (F) = {resultado1.f_pvalue:.2e}, Número de Condição = {np.linalg.cond(x1):.2e}\")\n",
    "print(f\"Modelo 2: R² Ajustado = {resultado2.rsquared_adj:.4f}, Estatística F = {resultado2.fvalue:.2f}, p-valor (F) = {resultado2.f_pvalue:.2e}, Número de Condição = {np.linalg.cond(x2):.2f}\")\n",
    "\n",
    "print(\"=-=-Análise e Escolha do Modelo-=-=\")\n",
    "if resultado2.rsquared_adj >= resultado1.rsquared_adj - 0.01:\n",
    "    print(\"O Modelo 2 apresenta desempenho semelhante ao Modelo 1 em termos de R² ajustado.\")\n",
    "    print(\"Além disso, o Modelo 2 elimina o problema crítico de multicolinearidade, resultando em um número de condição bem mais estável.\")\n",
    "\n",
    "    pValorRemovida = resultado1.pvalues.get('tipo_processador_Apple Silicon', 1)\n",
    "    if pValorRemovida > 0.05:\n",
    "        print(f\"A variável descartada ('tipo_processador_Apple Silicon') não era estatisticamente relevante no Modelo 1 (p={pValorRemovida:.3f}).\")\n",
    "        print(\"Portanto, o Modelo 2 se destaca por ser mais enxuto e confiável.\")\n",
    "    else:\n",
    "        print(f\"A variável retirada ('tipo_processador_Apple Silicon') até apresentou significância estatística (p={pValorRemovida:.3f}), porém estava associada a colinearidade extrema.\")\n",
    "        print(\"Nesse contexto, o Modelo 2 ainda é a escolha mais apropriada por oferecer estimativas mais estáveis.\")\n",
    "else:\n",
    "    print(\"O Modelo 2 teve uma redução perceptível no R² ajustado em relação ao Modelo 1.\")\n",
    "    print(\"Contudo, o Modelo 1 apresenta sérios indícios de multicolinearidade.\")\n",
    "    print(\"Mesmo com a ligeira perda de explicabilidade, o Modelo 2 é mais seguro por evitar dependência linear entre variáveis.\")\n",
    "\n",
    "# Comparação visual dos modelos\n",
    "plt.bar([\"Modelo 1\", \"Modelo 2\"], [resultado1.rsquared_adj, resultado2.rsquared_adj], color=[\"skyblue\", \"lightgreen\"])\n",
    "plt.title(\"Comparação do R² Ajustado\")\n",
    "plt.ylabel(\"R² Ajustado\")\n",
    "plt.ylim(0, 1)\n",
    "plt.tight_layout()\n",
    "plt.show()\n"
   ]
  }
 ],
 "metadata": {
  "colab": {
   "provenance": []
  },
  "kernelspec": {
   "display_name": "Python 3",
   "name": "python3"
  },
  "language_info": {
   "codemirror_mode": {
    "name": "ipython",
    "version": 3
   },
   "file_extension": ".py",
   "mimetype": "text/x-python",
   "name": "python",
   "nbconvert_exporter": "python",
   "pygments_lexer": "ipython3",
   "version": "3.13.2"
  }
 },
 "nbformat": 4,
 "nbformat_minor": 5
}
